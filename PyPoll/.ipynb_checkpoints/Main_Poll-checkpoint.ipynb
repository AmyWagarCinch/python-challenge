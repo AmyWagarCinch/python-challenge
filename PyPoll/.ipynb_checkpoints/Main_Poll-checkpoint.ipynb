{
 "cells": [
  {
   "cell_type": "code",
   "execution_count": 1,
   "metadata": {},
   "outputs": [
    {
     "name": "stdout",
     "output_type": "stream",
     "text": [
      "['12864552', 'Marsh', 'Khan']\n"
     ]
    }
   ],
   "source": [
    "#modules\n",
    "import os\n",
    "import csv\n",
    "\n",
    "# Set path for file\n",
    "csvpath = os.path.join(\".\", \"Resources\", \"election_data.csv\")\n",
    "\n",
    "with open(csvpath) as csvfile:\n",
    "    csvreader = csv.reader(csvfile, delimiter=\",\")\n",
    "    header = next(csvreader)\n",
    "    \n",
    "    #Loop through looking for the ___\n",
    "    for row in csvreader:\n",
    "        print(row)\n",
    "        break\n"
   ]
  },
  {
   "cell_type": "code",
   "execution_count": 3,
   "metadata": {},
   "outputs": [
    {
     "name": "stdout",
     "output_type": "stream",
     "text": [
      "Total Votes Cast: 3521001\n"
     ]
    }
   ],
   "source": [
    "total_votes = []\n",
    "candidates = []\n",
    "\n",
    "\n",
    "with open(csvpath) as csvfile:\n",
    "    csvreader = csv.reader(csvfile, delimiter=\",\")\n",
    "    header = next(csvreader)\n",
    "    for row in csvreader:\n",
    "        # Append the total votes and total ____ to their corresponding lists\n",
    "        total_votes.append(row[0])\n",
    "        #total_profit.append(int(row[1]))\n",
    "    # Iterate through the profits in order to get the monthly change in profits\n",
    "    #for i in range(len(total_profit)-1):\n",
    "        #Take the difference between two months and append to monthly profit change\n",
    "        #monthly_profit_change.append(total_profit[i+1]-total_profit[i])\n",
    "print(f\"Total Votes Cast: {len(total_votes)}\")\n",
    "#print(f\"Total: ${sum(total_profit)}\")\n",
    "#print(f\"Average Change: {round(sum(monthly_profit_change)/len(monthly_profit_change),2)}\")"
   ]
  },
  {
   "cell_type": "code",
   "execution_count": null,
   "metadata": {},
   "outputs": [],
   "source": []
  }
 ],
 "metadata": {
  "kernelspec": {
   "display_name": "Python 3",
   "language": "python",
   "name": "python3"
  },
  "language_info": {
   "codemirror_mode": {
    "name": "ipython",
    "version": 3
   },
   "file_extension": ".py",
   "mimetype": "text/x-python",
   "name": "python",
   "nbconvert_exporter": "python",
   "pygments_lexer": "ipython3",
   "version": "3.8.3"
  }
 },
 "nbformat": 4,
 "nbformat_minor": 4
}
