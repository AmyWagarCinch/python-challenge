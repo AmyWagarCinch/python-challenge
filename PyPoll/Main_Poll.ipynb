{
 "cells": [
  {
   "cell_type": "code",
   "execution_count": 13,
   "metadata": {},
   "outputs": [
    {
     "name": "stdout",
     "output_type": "stream",
     "text": [
      "['12864552', 'Marsh', 'Khan']\n"
     ]
    }
   ],
   "source": [
    "#modules\n",
    "import os\n",
    "import csv\n",
    "\n",
    "# Set path for file\n",
    "csvpath = os.path.join(\".\", \"Resources\", \"election_data.csv\")\n",
    "\n",
    "with open(csvpath) as csvfile:\n",
    "    csvreader = csv.reader(csvfile, delimiter=\",\")\n",
    "    header = next(csvreader)\n",
    "    \n",
    "    #Loop through looking for the ___\n",
    "    for row in csvreader:\n",
    "        print(row)\n",
    "        break\n"
   ]
  },
  {
   "cell_type": "code",
   "execution_count": 20,
   "metadata": {},
   "outputs": [
    {
     "name": "stdout",
     "output_type": "stream",
     "text": [
      "Total Votes Cast: 3521001\n"
     ]
    }
   ],
   "source": [
    "# create variables to store data\n",
    "total_votes = []\n",
    "candidates = []\n",
    "voter_id = []\n",
    "candidate = []\n",
    "candidate_names = []\n",
    "percentage = []\n",
    "vote_count = []\n",
    "winner = 0\n",
    "winner_candidate = \"\"\n",
    "\n",
    "# Read the csv file\n",
    "with open(csvpath) as csvfile:\n",
    "    csvreader = csv.reader(csvfile, delimiter=\",\")\n",
    "    header = next(csvreader)\n",
    "    for row in csvreader:\n",
    "        # Append the total votes and total ____ to their corresponding lists\n",
    "        total_votes.append(row[0])\n",
    "        candidate.append(row[2])\n",
    "        \n",
    "    # Create a list to keep candidate names\n",
    "    for row in candidate: \n",
    "        if row not in candidate_names:\n",
    "            candidate_names.append(row)\n",
    "            \n",
    "    # Count each candidates votes and calculate percentage\n",
    "    for name in candidate_names:\n",
    "        count = 0\n",
    "        for row in candidate:\n",
    "            if name == row:\n",
    "                count += 1\n",
    "                percent = float(count) / float(total_votes) * 100\n",
    "            if count > winner:\n",
    "                winner = count\n",
    "                winner_candidate = name\n",
    "        \n",
    "    # Iterate through the profits in order to get the monthly change in profits\n",
    "    #for i in range(len(total_profit)-1):\n",
    "        #Take the difference between two months and append to monthly profit change\n",
    "        #monthly_profit_change.append(total_profit[i+1]-total_profit[i])\n",
    "print(f\"Total Votes Cast: {len(total_votes)}\")\n",
    "#print(f\"Total: ${sum(total_profit)}\")\n",
    "#print(f\"Average Change: {round(sum(monthly_profit_change)/len(monthly_profit_change),2)}\")"
   ]
  },
  {
   "cell_type": "code",
   "execution_count": null,
   "metadata": {},
   "outputs": [],
   "source": []
  },
  {
   "cell_type": "code",
   "execution_count": 19,
   "metadata": {},
   "outputs": [
    {
     "ename": "ImportError",
     "evalue": "cannot import name 'counter' from 'collections' (C:\\Users\\grety\\anaconda3\\lib\\collections\\__init__.py)",
     "output_type": "error",
     "traceback": [
      "\u001b[1;31m---------------------------------------------------------------------------\u001b[0m",
      "\u001b[1;31mImportError\u001b[0m                               Traceback (most recent call last)",
      "\u001b[1;32m<ipython-input-19-468d4f9d531a>\u001b[0m in \u001b[0;36m<module>\u001b[1;34m\u001b[0m\n\u001b[1;32m----> 1\u001b[1;33m \u001b[1;32mfrom\u001b[0m \u001b[0mcollections\u001b[0m \u001b[1;32mimport\u001b[0m \u001b[0mcounter\u001b[0m\u001b[1;33m\u001b[0m\u001b[1;33m\u001b[0m\u001b[0m\n\u001b[0m\u001b[0;32m      2\u001b[0m \u001b[1;33m\u001b[0m\u001b[0m\n\u001b[0;32m      3\u001b[0m \u001b[0mcsvpath\u001b[0m \u001b[1;33m=\u001b[0m \u001b[0mos\u001b[0m\u001b[1;33m.\u001b[0m\u001b[0mpath\u001b[0m\u001b[1;33m.\u001b[0m\u001b[0mjoin\u001b[0m\u001b[1;33m(\u001b[0m\u001b[1;34m\".\"\u001b[0m\u001b[1;33m,\u001b[0m \u001b[1;34m\"Resources\"\u001b[0m\u001b[1;33m,\u001b[0m \u001b[1;34m\"election_data.csv\"\u001b[0m\u001b[1;33m)\u001b[0m\u001b[1;33m\u001b[0m\u001b[1;33m\u001b[0m\u001b[0m\n\u001b[0;32m      4\u001b[0m \u001b[1;33m\u001b[0m\u001b[0m\n\u001b[0;32m      5\u001b[0m \u001b[1;33m\u001b[0m\u001b[0m\n",
      "\u001b[1;31mImportError\u001b[0m: cannot import name 'counter' from 'collections' (C:\\Users\\grety\\anaconda3\\lib\\collections\\__init__.py)"
     ]
    }
   ],
   "source": [
    "from collections import counter\n",
    "\n",
    "csvpath = os.path.join(\".\", \"Resources\", \"election_data.csv\")\n",
    "\n",
    "\n",
    "\n",
    "with open(csvpath) as csvfile:\n",
    "    csvreader = csv.reader(csvfile, delimiter=\",\")\n",
    "    header = next(csvreader)\n",
    "    for row in csvreader:\n",
    "        vote = row[2]\n",
    "        vote_count=Counter(vote)\n",
    "        #candidate = str(row[2])\n",
    "        \n",
    "            #vote_percent = (votes / total_votes) * 100\n",
    "\n",
    "           \n",
    "        #print(f\"Stats for {candidate}\")\n",
    "        #print(f\"VOTE PERCENT: {vote_percent}\")\n",
    "   \n",
    "\n",
    "\n"
   ]
  },
  {
   "cell_type": "code",
   "execution_count": null,
   "metadata": {},
   "outputs": [],
   "source": []
  }
 ],
 "metadata": {
  "kernelspec": {
   "display_name": "Python 3",
   "language": "python",
   "name": "python3"
  },
  "language_info": {
   "codemirror_mode": {
    "name": "ipython",
    "version": 3
   },
   "file_extension": ".py",
   "mimetype": "text/x-python",
   "name": "python",
   "nbconvert_exporter": "python",
   "pygments_lexer": "ipython3",
   "version": "3.8.3"
  }
 },
 "nbformat": 4,
 "nbformat_minor": 4
}
