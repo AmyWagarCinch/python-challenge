{
 "cells": [
  {
   "cell_type": "code",
   "execution_count": 15,
   "metadata": {},
   "outputs": [
    {
     "name": "stdout",
     "output_type": "stream",
     "text": [
      "38382578\n"
     ]
    }
   ],
   "source": [
    "#modules\n",
    "import os\n",
    "import csv\n",
    "\n",
    "# Set path for file\n",
    "csvpath = os.path.join(\".\", \"Resources\", \"budget_data.csv\")\n",
    "\n",
    "#combining the two\n",
    "with open(csvpath) as csvfile:\n",
    "    csvreader = csv.reader(csvfile, delimiter=\",\")\n",
    "    header = next(csvreader)\n",
    "    total = 0\n",
    "    for row in csv.reader(csvfile):\n",
    "        total += int(row[1])\n",
    "    print(total)\n",
    "\n",
    "#what Adam helped me create\n",
    "#with open(csvpath) as csvfile:\n",
    "    #csvreader = csv.reader(csvfile, delimiter=\",\")\n",
    "    #header = next(csvreader)\n",
    "    \n",
    "    #Loop through looking for the ___\n",
    "    #for row in csvreader:\n",
    "        #print(row)\n",
    "        #break\n",
    "        \n",
    "#From stack overflow\n",
    "#with open(\"file.csv\") as fin:\n",
    "    #headerline = fin.next()\n",
    "    #total = 0\n",
    "    #for row in csv.reader(fin):\n",
    "        #total += int(row[1])\n",
    "    #print total    "
   ]
  },
  {
   "cell_type": "code",
   "execution_count": 17,
   "metadata": {},
   "outputs": [
    {
     "name": "stdout",
     "output_type": "stream",
     "text": [
      "86\n"
     ]
    }
   ],
   "source": [
    "with open(csvpath) as csvfile:\n",
    "    csvreader = csv.reader(csvfile, delimiter=\",\")\n",
    "    header = next(csvreader)\n",
    "    total = 0\n",
    "    for row in csv.reader(csvfile):        \n",
    "        value = (len(list(csvfile))) + 1 \n",
    "    print(value)\n",
    "    "
   ]
  },
  {
   "cell_type": "code",
   "execution_count": null,
   "metadata": {},
   "outputs": [],
   "source": []
  }
 ],
 "metadata": {
  "kernelspec": {
   "display_name": "Python 3",
   "language": "python",
   "name": "python3"
  },
  "language_info": {
   "codemirror_mode": {
    "name": "ipython",
    "version": 3
   },
   "file_extension": ".py",
   "mimetype": "text/x-python",
   "name": "python",
   "nbconvert_exporter": "python",
   "pygments_lexer": "ipython3",
   "version": "3.8.3"
  }
 },
 "nbformat": 4,
 "nbformat_minor": 4
}
